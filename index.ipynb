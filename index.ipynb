{
 "cells": [
  {
   "cell_type": "markdown",
   "id": "8076aa1c-f81f-4a59-8782-daa7e58ba693",
   "metadata": {},
   "source": [
    "# Gradient Descent and Linear Algebra Review\n",
    "\n",
    "In this notebook, we review:\n",
    "* `learning rate` - a standard hyperparameter for gradient descent algorithms, and evaluate how learning rate impacts a model's fit.\n",
    "* Introductory elements of linear algebra.\n",
    "    * Vector compatibility \n",
    "    * "
   ]
  },
  {
   "cell_type": "code",
   "execution_count": 1,
   "id": "8e15c30c-b125-4a03-9d9f-8c6479788e4e",
   "metadata": {},
   "outputs": [],
   "source": [
    "from sklearn.linear_model import SGDRegressor\n",
    "from sklearn.datasets import load_diabetes\n",
    "from sklearn.model_selection import train_test_split\n",
    "import pandas as pd\n",
    "\n",
    "data = load_diabetes()\n",
    "df = pd.DataFrame(data['data'], columns=data['feature_names'])\n",
    "df['target'] = data['target']\n",
    "\n",
    "# Jupyter configuration\n",
    "%config Completer.use_jedi = False"
   ]
  },
  {
   "cell_type": "markdown",
   "id": "c691f781-9073-4971-af00-c519c576b945",
   "metadata": {},
   "source": [
    "## 1. Set up a train test split"
   ]
  },
  {
   "cell_type": "code",
   "execution_count": 2,
   "id": "d1dec36c-9fd4-4e02-aff7-9ac12fcbba6d",
   "metadata": {},
   "outputs": [],
   "source": [
    "# Your code here"
   ]
  },
  {
   "cell_type": "code",
   "execution_count": 3,
   "id": "775348c7-9252-4a26-8a05-92ef993d8d3c",
   "metadata": {},
   "outputs": [],
   "source": [
    "#__SOLUTION__\n",
    "X = df.drop('target', axis = 1)\n",
    "y = df.target\n",
    "X_train, X_test, y_train, y_test = train_test_split(X, y, random_state=2021)"
   ]
  },
  {
   "cell_type": "markdown",
   "id": "3724f6d5-5500-4bed-b420-41513a5625bd",
   "metadata": {},
   "source": [
    "## 2. Initialize an SGDRegressor model"
   ]
  },
  {
   "cell_type": "code",
   "execution_count": 4,
   "id": "1c7ee2c0-33d6-4f22-9bef-70b7cd97fa41",
   "metadata": {},
   "outputs": [],
   "source": [
    "# Your code here"
   ]
  },
  {
   "cell_type": "code",
   "execution_count": 5,
   "id": "8c0dbff7-40a4-4397-aae4-91e3c5649bc3",
   "metadata": {},
   "outputs": [],
   "source": [
    "#__SOLUTION__\n",
    "model = SGDRegressor(random_state=2021)"
   ]
  },
  {
   "cell_type": "markdown",
   "id": "d8728958-ab7d-4f13-9d5b-e3cbb1cab430",
   "metadata": {},
   "source": [
    "## 3. Fit the model"
   ]
  },
  {
   "cell_type": "code",
   "execution_count": 6,
   "id": "efbff40a-cbc8-4351-af57-babb9c0c2740",
   "metadata": {},
   "outputs": [],
   "source": [
    "# Your code here"
   ]
  },
  {
   "cell_type": "code",
   "execution_count": 7,
   "id": "2f61b91d-0f9d-4289-9077-02bdbc8385be",
   "metadata": {},
   "outputs": [
    {
     "name": "stderr",
     "output_type": "stream",
     "text": [
      "/opt/anaconda3/lib/python3.7/site-packages/sklearn/linear_model/_stochastic_gradient.py:1228: ConvergenceWarning: Maximum number of iteration reached before convergence. Consider increasing max_iter to improve the fit.\n",
      "  ConvergenceWarning)\n"
     ]
    },
    {
     "data": {
      "text/plain": [
       "SGDRegressor(random_state=2021)"
      ]
     },
     "execution_count": 7,
     "metadata": {},
     "output_type": "execute_result"
    }
   ],
   "source": [
    "#__SOLUTION__\n",
    "model.fit(X_train, y_train)"
   ]
  },
  {
   "cell_type": "markdown",
   "id": "c513dc8f-7c74-4633-8a8c-3b1c36a92e25",
   "metadata": {},
   "source": [
    "## 4. Multiple choice question asking them to select what the default setting is for max_iter"
   ]
  },
  {
   "cell_type": "code",
   "execution_count": 8,
   "id": "4f85adfc-4325-4866-8288-7397292f2ede",
   "metadata": {},
   "outputs": [
    {
     "data": {
      "application/vnd.jupyter.widget-view+json": {
       "model_id": "bb9db56d7688466ea56ca88e5fa5ff1a",
       "version_major": 2,
       "version_minor": 0
      },
      "text/plain": [
       "VBox(children=(Output(layout=Layout(bottom='5px', width='auto')), RadioButtons(layout=Layout(flex_flow='column…"
      ]
     },
     "metadata": {},
     "output_type": "display_data"
    }
   ],
   "source": [
    "# Run this cell unchanged\n",
    "from src.questions import *\n",
    "question_4.display()"
   ]
  },
  {
   "cell_type": "markdown",
   "id": "4b3020ea-f192-495d-9dd2-cd355f8e27b2",
   "metadata": {},
   "source": [
    "## 5. Update the max_iter variable to 10000"
   ]
  },
  {
   "cell_type": "code",
   "execution_count": 9,
   "id": "9e9a5da3-5210-4ef2-bf26-c9e3af11bab2",
   "metadata": {},
   "outputs": [],
   "source": [
    "# Your code here"
   ]
  },
  {
   "cell_type": "code",
   "execution_count": 10,
   "id": "3f6ba7a9-6f4e-43fc-8006-012e5f469192",
   "metadata": {},
   "outputs": [
    {
     "data": {
      "text/plain": [
       "SGDRegressor(max_iter=10000, random_state=2021)"
      ]
     },
     "execution_count": 10,
     "metadata": {},
     "output_type": "execute_result"
    }
   ],
   "source": [
    "#__SOLUTION__\n",
    "model = SGDRegressor(max_iter=10000, random_state=2021)\n",
    "model.fit(X_train, y_train)"
   ]
  },
  {
   "cell_type": "markdown",
   "id": "48fd12b4-ed8a-43b3-8caa-6235e2bbae88",
   "metadata": {},
   "source": [
    "# Quick aside about finding the max iter programmatically"
   ]
  },
  {
   "cell_type": "code",
   "execution_count": 11,
   "id": "163bf041-7bc8-466d-97bf-c2453ef82855",
   "metadata": {},
   "outputs": [
    {
     "name": "stdout",
     "output_type": "stream",
     "text": [
      "Max iterations needed for convergence: 6500\n"
     ]
    }
   ],
   "source": [
    "# Run this cell unchanged\n",
    "import warnings\n",
    "\n",
    "# Loop over a range of numbers between 1000 10,000\n",
    "for i in range(1000, 10000, 500):\n",
    "    # Catch the ConvergenceWarning\n",
    "    with warnings.catch_warnings():\n",
    "        # If a warning is produced, throw an error instead\n",
    "        warnings.filterwarnings('error')\n",
    "        # Place the model fit inside a try except block to catch the error\n",
    "        try:\n",
    "            model = SGDRegressor(max_iter=i, random_state=2021)\n",
    "            model.fit(X_train, y_train)\n",
    "            # If the model fits without a ConvergenceWarning stop the for loop\n",
    "            break\n",
    "        except Warning:\n",
    "            # If the model returns a ConvergenceWarning, move to the next iteration.\n",
    "            continue\n",
    "            \n",
    "# Print the number of iterations that allowed the model to converge\n",
    "print('Max iterations needed for convergence:', i)"
   ]
  },
  {
   "cell_type": "code",
   "execution_count": 12,
   "id": "c50186ce-6372-4933-ac9d-71181bc2d622",
   "metadata": {},
   "outputs": [
    {
     "name": "stdout",
     "output_type": "stream",
     "text": [
      "Max iterations needed for convergence: 6500\n"
     ]
    }
   ],
   "source": [
    "#__SOLUTION__\n",
    "# Run this cell unchanged\n",
    "import warnings\n",
    "\n",
    "# Loop over a range of numbers between 1000 10,000\n",
    "for i in range(1000, 10000, 500):\n",
    "    # Catch the ConvergenceWarning\n",
    "    with warnings.catch_warnings():\n",
    "        # If a warning is produced, throw an error instead\n",
    "        warnings.filterwarnings('error')\n",
    "        # Place the model fit inside a try except block to catch the error\n",
    "        try:\n",
    "            model = SGDRegressor(max_iter=i, random_state=2021)\n",
    "            model.fit(X_train, y_train)\n",
    "            # If the model fits without a ConvergenceWarning stop the for loop\n",
    "            break\n",
    "        except Warning:\n",
    "            # If the model returns a ConvergenceWarning, move to the next iteration.\n",
    "            continue\n",
    "            \n",
    "# Print the number of iterations that allowed the model to converge\n",
    "print('Max iterations needed for convergence:', i)"
   ]
  },
  {
   "cell_type": "markdown",
   "id": "e049364f-39e2-4d54-ac4c-d5813f3c1684",
   "metadata": {},
   "source": [
    "## 6. What is the default setting for alpha? - Multi choice"
   ]
  },
  {
   "cell_type": "code",
   "execution_count": 13,
   "id": "f3452592-047a-4729-8017-bd901282c0da",
   "metadata": {},
   "outputs": [
    {
     "data": {
      "application/vnd.jupyter.widget-view+json": {
       "model_id": "23157080783e477b8a50943586aa6763",
       "version_major": 2,
       "version_minor": 0
      },
      "text/plain": [
       "VBox(children=(Output(layout=Layout(bottom='5px', width='auto')), RadioButtons(layout=Layout(flex_flow='column…"
      ]
     },
     "metadata": {},
     "output_type": "display_data"
    }
   ],
   "source": [
    "# Run this cell unchanged\n",
    "question_6.display()"
   ]
  },
  {
   "cell_type": "code",
   "execution_count": 14,
   "id": "6dfd3470-442a-4b2b-9559-84e64faa9a3e",
   "metadata": {},
   "outputs": [
    {
     "data": {
      "application/vnd.jupyter.widget-view+json": {
       "model_id": "3df77ba2651048909a0eac873f60f738",
       "version_major": 2,
       "version_minor": 0
      },
      "text/plain": [
       "VBox(children=(Output(layout=Layout(bottom='5px', width='auto')), RadioButtons(layout=Layout(flex_flow='column…"
      ]
     },
     "metadata": {},
     "output_type": "display_data"
    }
   ],
   "source": [
    "#__SOLUTION__\n",
    "# Run this cell unchanged\n",
    "question_6.display()"
   ]
  },
  {
   "cell_type": "markdown",
   "id": "965a4c9c-76d5-479d-a93c-8c50f607f059",
   "metadata": {},
   "source": [
    "## 7. Update the alpha to .01 and set the max_iter to 1500"
   ]
  },
  {
   "cell_type": "code",
   "execution_count": 15,
   "id": "181a39f4-9e1c-4cb0-8210-49e6c74b30ab",
   "metadata": {},
   "outputs": [],
   "source": [
    "# Your code here"
   ]
  },
  {
   "cell_type": "code",
   "execution_count": 16,
   "id": "fb09ff57-0dbb-44f5-90d8-28346f8b5e75",
   "metadata": {},
   "outputs": [
    {
     "data": {
      "text/plain": [
       "SGDRegressor(alpha=0.01, max_iter=1500, random_state=2021)"
      ]
     },
     "execution_count": 16,
     "metadata": {},
     "output_type": "execute_result"
    }
   ],
   "source": [
    "#__SOLUTION__\n",
    "model = SGDRegressor(max_iter=1500, alpha=0.01, random_state=2021)\n",
    "model.fit(X, y)"
   ]
  },
  {
   "cell_type": "markdown",
   "id": "495d93b4-db9a-4f5d-9494-456c660f5b45",
   "metadata": {},
   "source": [
    "## 8. The model converged - True or False"
   ]
  },
  {
   "cell_type": "code",
   "execution_count": 17,
   "id": "0c33e1a6-ae48-486f-a17b-50962bfc65b6",
   "metadata": {},
   "outputs": [
    {
     "data": {
      "application/vnd.jupyter.widget-view+json": {
       "model_id": "982b81b421c5418498e822f5a03a4595",
       "version_major": 2,
       "version_minor": 0
      },
      "text/plain": [
       "VBox(children=(Output(layout=Layout(bottom='5px', width='auto')), RadioButtons(layout=Layout(flex_flow='column…"
      ]
     },
     "metadata": {},
     "output_type": "display_data"
    }
   ],
   "source": [
    "# Run this cell unchanged\n",
    "question_8.display()"
   ]
  },
  {
   "cell_type": "code",
   "execution_count": 18,
   "id": "e3217a49-cc69-470a-a59c-9387b79cdd1c",
   "metadata": {},
   "outputs": [
    {
     "data": {
      "application/vnd.jupyter.widget-view+json": {
       "model_id": "9b8bb0ea36aa43daa7c50fa2c5d0c75f",
       "version_major": 2,
       "version_minor": 0
      },
      "text/plain": [
       "VBox(children=(Output(layout=Layout(bottom='5px', width='auto')), RadioButtons(layout=Layout(flex_flow='column…"
      ]
     },
     "metadata": {},
     "output_type": "display_data"
    }
   ],
   "source": [
    "#__SOLUTION__\n",
    "# Run this cell unchanged\n",
    "question_8.display()"
   ]
  },
  {
   "cell_type": "markdown",
   "id": "e52ebec3-c5c7-485b-a0e9-b83148f6836b",
   "metadata": {},
   "source": [
    "## 9. Select the answer that best describes how alpha impacts a model's fit"
   ]
  },
  {
   "cell_type": "code",
   "execution_count": 19,
   "id": "973320ba-cca7-4cf9-8547-92eca65cfa6e",
   "metadata": {},
   "outputs": [
    {
     "data": {
      "application/vnd.jupyter.widget-view+json": {
       "model_id": "cb3ba085f9154e5ba89bd37ba6eb943e",
       "version_major": 2,
       "version_minor": 0
      },
      "text/plain": [
       "VBox(children=(Output(layout=Layout(bottom='5px', width='auto')), RadioButtons(layout=Layout(flex_flow='column…"
      ]
     },
     "metadata": {},
     "output_type": "display_data"
    }
   ],
   "source": [
    "# Run this cell unchanged\n",
    "question_9.display()"
   ]
  },
  {
   "cell_type": "code",
   "execution_count": 20,
   "id": "65579a95-fb38-4f44-8d9d-fb9800640886",
   "metadata": {},
   "outputs": [
    {
     "data": {
      "application/vnd.jupyter.widget-view+json": {
       "model_id": "bab810ca681e411e84731221dc82f2cc",
       "version_major": 2,
       "version_minor": 0
      },
      "text/plain": [
       "VBox(children=(Output(layout=Layout(bottom='5px', width='auto')), RadioButtons(layout=Layout(flex_flow='column…"
      ]
     },
     "metadata": {},
     "output_type": "display_data"
    }
   ],
   "source": [
    "#__SOLUTION__\n",
    "# Run this cell unchanged\n",
    "question_9.display()"
   ]
  },
  {
   "cell_type": "markdown",
   "id": "4ee0807f-b436-433c-a532-c9e029e725f5",
   "metadata": {},
   "source": [
    "# Linear Algebra Practice"
   ]
  },
  {
   "cell_type": "markdown",
   "id": "641abfa4-fed3-49a4-8f58-2144c2ebb27b",
   "metadata": {},
   "source": [
    "## 10. When finding the dot product for two vectors, the length of the vectors must be the same."
   ]
  },
  {
   "cell_type": "code",
   "execution_count": 21,
   "id": "37b62c74-f12b-4892-b1c4-b3eac9a466b8",
   "metadata": {},
   "outputs": [
    {
     "data": {
      "application/vnd.jupyter.widget-view+json": {
       "model_id": "25f7c0bfdba742f9ad99ebb893267be1",
       "version_major": 2,
       "version_minor": 0
      },
      "text/plain": [
       "VBox(children=(Output(layout=Layout(bottom='5px', width='auto')), RadioButtons(layout=Layout(flex_flow='column…"
      ]
     },
     "metadata": {},
     "output_type": "display_data"
    }
   ],
   "source": [
    "# Run this cell unchanged\n",
    "question_10.display()"
   ]
  },
  {
   "cell_type": "code",
   "execution_count": 22,
   "id": "87848c85-e149-4139-b3b0-6f85aa0cf3ac",
   "metadata": {},
   "outputs": [
    {
     "data": {
      "application/vnd.jupyter.widget-view+json": {
       "model_id": "c4989f4a19f742c3b3ffd2a4db05711f",
       "version_major": 2,
       "version_minor": 0
      },
      "text/plain": [
       "VBox(children=(Output(layout=Layout(bottom='5px', width='auto')), RadioButtons(layout=Layout(flex_flow='column…"
      ]
     },
     "metadata": {},
     "output_type": "display_data"
    }
   ],
   "source": [
    "#__SOLUTION__\n",
    "# Run this cell unchanged\n",
    "question_10.display()"
   ]
  },
  {
   "cell_type": "markdown",
   "id": "d12af8f3-f2b4-4372-83d7-a0aa8053eb6c",
   "metadata": {},
   "source": [
    "## 11. Please select the solution for the dot product of the following vectors.\n",
    "\n",
    "$vector_1 = \\begin{bmatrix} 10&13\\\\ \\end{bmatrix}$\n",
    "\n",
    "$vector_2= \\begin{bmatrix} -4&82\\\\ \\end{bmatrix}$\n"
   ]
  },
  {
   "cell_type": "code",
   "execution_count": 23,
   "id": "a4349187-0ead-40a9-b802-8557010be878",
   "metadata": {},
   "outputs": [
    {
     "data": {
      "application/vnd.jupyter.widget-view+json": {
       "model_id": "029cebf813f6472c854ea64824919471",
       "version_major": 2,
       "version_minor": 0
      },
      "text/plain": [
       "VBox(children=(Output(layout=Layout(bottom='5px', width='auto')), RadioButtons(layout=Layout(flex_flow='column…"
      ]
     },
     "metadata": {},
     "output_type": "display_data"
    }
   ],
   "source": [
    "# Run this cell unchanged\n",
    "question_11.display()"
   ]
  },
  {
   "cell_type": "code",
   "execution_count": 24,
   "id": "34bec025-852e-4029-8389-64513240503f",
   "metadata": {},
   "outputs": [
    {
     "data": {
      "application/vnd.jupyter.widget-view+json": {
       "model_id": "134eb6ac6179449dbcd6c0153e96f197",
       "version_major": 2,
       "version_minor": 0
      },
      "text/plain": [
       "VBox(children=(Output(layout=Layout(bottom='5px', width='auto')), RadioButtons(layout=Layout(flex_flow='column…"
      ]
     },
     "metadata": {},
     "output_type": "display_data"
    }
   ],
   "source": [
    "#__SOLUTION__\n",
    "# Run this cell unchanged\n",
    "question_11.display()"
   ]
  },
  {
   "cell_type": "markdown",
   "id": "fe6b9e0c-cb48-4f1d-9f6d-2ef62b6b4b24",
   "metadata": {},
   "source": [
    "## 12. How do you turn a list into a numpy array?"
   ]
  },
  {
   "cell_type": "code",
   "execution_count": 25,
   "id": "9878476b-b90d-4b18-8da6-cf5ab238ca41",
   "metadata": {},
   "outputs": [
    {
     "data": {
      "application/vnd.jupyter.widget-view+json": {
       "model_id": "dce60f75ae8241ae8c37169ea0cd8e72",
       "version_major": 2,
       "version_minor": 0
      },
      "text/plain": [
       "VBox(children=(Output(layout=Layout(bottom='5px', width='auto')), RadioButtons(layout=Layout(flex_flow='column…"
      ]
     },
     "metadata": {},
     "output_type": "display_data"
    }
   ],
   "source": [
    "# Run this cell unchanged\n",
    "\n",
    "question_12.display()"
   ]
  },
  {
   "cell_type": "markdown",
   "id": "811adce0-c32f-4283-8af9-9d06423a6384",
   "metadata": {},
   "source": [
    "## 13. Please find the dot product of the following vectors"
   ]
  },
  {
   "cell_type": "code",
   "execution_count": 45,
   "id": "2d1b7e72-970e-4517-b55e-7db4ce12e838",
   "metadata": {},
   "outputs": [],
   "source": [
    "vector_1 = [\n",
    "               [ 0.80559827,  0.29916789,  0.39630405,  0.92797795, -0.13808099],\n",
    "               [ 1.7249222 ,  1.59418491,  1.95963002,  0.64988373, -0.08225951],\n",
    "               [-0.50472891,  0.74287965,  1.8927091 ,  0.33783705,  0.94361808],\n",
    "               [ 0.99034854, -1.0526394 , -0.33825968, -0.40148036,  1.81821604],\n",
    "               [-0.7298026 , -0.88302624,  0.49319177, -0.02758864,  0.33430167],\n",
    "               [ 0.85938167, -0.71149948, -1.8434118 ,  0.89097775,  0.53842254]\n",
    "                                                                                    ]\n",
    "\n",
    "\n",
    "vector_2 = [\n",
    "              [ 0.13288805],\n",
    "              [-2.50839814],\n",
    "              [-0.90620828],\n",
    "              [ 0.09841538],\n",
    "              [ 1.86783262],\n",
    "              [ 1.98903307]\n",
    "                               ]"
   ]
  },
  {
   "cell_type": "code",
   "execution_count": 46,
   "id": "98250742-40eb-4794-9543-951b2a5fa5a2",
   "metadata": {},
   "outputs": [],
   "source": [
    "# Your code here"
   ]
  },
  {
   "cell_type": "code",
   "execution_count": 47,
   "id": "22fa6ffc-783c-4ff5-bc39-30420e4950ca",
   "metadata": {},
   "outputs": [
    {
     "data": {
      "text/plain": [
       "array([[-3.31869275],\n",
       "       [-7.80043543],\n",
       "       [-9.35675419],\n",
       "       [-0.13185929],\n",
       "       [ 1.207176  ]])"
      ]
     },
     "execution_count": 47,
     "metadata": {},
     "output_type": "execute_result"
    }
   ],
   "source": [
    "#__SOLUTION__\n",
    "vector_1 = np.array(vector_1)\n",
    "vector_2 = np.array(vector_2)\n",
    "\n",
    "np.dot(vector_1.T, vector_2)"
   ]
  }
 ],
 "metadata": {
  "kernelspec": {
   "display_name": "Python 3",
   "language": "python",
   "name": "python3"
  },
  "language_info": {
   "codemirror_mode": {
    "name": "ipython",
    "version": 3
   },
   "file_extension": ".py",
   "mimetype": "text/x-python",
   "name": "python",
   "nbconvert_exporter": "python",
   "pygments_lexer": "ipython3",
   "version": "3.7.4"
  }
 },
 "nbformat": 4,
 "nbformat_minor": 5
}
